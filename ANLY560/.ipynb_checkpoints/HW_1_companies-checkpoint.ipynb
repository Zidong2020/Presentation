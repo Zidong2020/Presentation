{
 "cells": [
  {
   "cell_type": "code",
   "execution_count": 2,
   "metadata": {},
   "outputs": [],
   "source": [
    "from pandas import Series,DataFrame\n",
    "import pandas as pd\n",
    "from jqdatasdk import *\n",
    "from jqdatasdk import finance\n",
    "\n",
    "#chart part\n",
    "import chart_studio\n",
    "import chart_studio.plotly as py\n",
    "import pandas as pd\n",
    "import plotly.graph_objects as go #has more control, customizable\n",
    "import plotly.io as pio #produce an html file\n",
    "import plotly.express as px #fast, low effort"
   ]
  },
  {
   "cell_type": "code",
   "execution_count": 3,
   "metadata": {},
   "outputs": [
    {
     "name": "stdout",
     "output_type": "stream",
     "text": [
      "auth success \n"
     ]
    }
   ],
   "source": [
    "auth('13618615127', 'JoinQuant220119')"
   ]
  },
  {
   "cell_type": "code",
   "execution_count": 4,
   "metadata": {},
   "outputs": [],
   "source": [
    "# List of real estate companies\n",
    "df_companies=pd.DataFrame()\n",
    "stocks = get_industry_stocks('K70')\n",
    "\n",
    "for index in range(len(stocks)):\n",
    "    stock_list=get_security_info(stocks[index])\n",
    "    df_companies=df_companies.append(pd.DataFrame({'code':[stock_list.name],\n",
    "      'display_name':[stock_list.display_name],\n",
    "      'start_date':[stock_list.start_date],\n",
    "      'end_date':[stock_list.end_date],\n",
    "      'type':[stock_list.type]}),ignore_index=True)\n",
    "\n",
    "df_companies.to_csv('Real_Estate_companies_list.csv')"
   ]
  },
  {
   "cell_type": "code",
   "execution_count": 5,
   "metadata": {},
   "outputs": [
    {
     "data": {
      "text/plain": [
       "'000002.XSHE'"
      ]
     },
     "execution_count": 5,
     "metadata": {},
     "output_type": "execute_result"
    }
   ],
   "source": [
    "df_companies[\"display_name\"][0]\n",
    "stocks[0]"
   ]
  },
  {
   "cell_type": "code",
   "execution_count": 6,
   "metadata": {},
   "outputs": [
    {
     "name": "stderr",
     "output_type": "stream",
     "text": [
      "/opt/anaconda3/lib/python3.8/site-packages/jqdatasdk/api.py:34: PanelObsoleteWarning: 当前环境 pandas 版本高于 0.25，get_price 与 get_fundamentals_continuously 接口的 panel 参数将固定为 False（0.25 及以上版本的 pandas 不再支持 panel，如使用该数据结构和相关函数请注意修改）\n",
      "  warnings.warn(PandasChecker.VERSION_NOTICE_MESSAGE, PanelObsoleteWarning)\n"
     ]
    }
   ],
   "source": [
    "# Get single stock market data\n",
    "df_stock_price=get_price('000002.XSHE', start_date='2022-01-01', end_date='2022-1-25', frequency='daily')\n",
    "\n",
    "df_stock_price.to_csv('df_stock_price.csv')"
   ]
  },
  {
   "cell_type": "code",
   "execution_count": 7,
   "metadata": {},
   "outputs": [
    {
     "ename": "NameError",
     "evalue": "name 'xs' is not defined",
     "output_type": "error",
     "traceback": [
      "\u001b[0;31m---------------------------------------------------------------------------\u001b[0m",
      "\u001b[0;31mNameError\u001b[0m                                 Traceback (most recent call last)",
      "\u001b[0;32m<ipython-input-7-c1aeb2bd7e37>\u001b[0m in \u001b[0;36m<module>\u001b[0;34m\u001b[0m\n\u001b[1;32m      9\u001b[0m \u001b[0mcompanies_employee\u001b[0m\u001b[0;34m=\u001b[0m\u001b[0mfinance\u001b[0m\u001b[0;34m.\u001b[0m\u001b[0mrun_query\u001b[0m\u001b[0;34m(\u001b[0m\u001b[0mq\u001b[0m\u001b[0;34m)\u001b[0m\u001b[0;34m\u001b[0m\u001b[0;34m\u001b[0m\u001b[0m\n\u001b[1;32m     10\u001b[0m \u001b[0mdf_companies_employee\u001b[0m\u001b[0;34m=\u001b[0m\u001b[0mdf_companies_employee\u001b[0m\u001b[0;34m.\u001b[0m\u001b[0mappend\u001b[0m\u001b[0;34m(\u001b[0m\u001b[0mcompanies_employee\u001b[0m\u001b[0;34m)\u001b[0m\u001b[0;34m\u001b[0m\u001b[0;34m\u001b[0m\u001b[0m\n\u001b[0;32m---> 11\u001b[0;31m \u001b[0mxs\u001b[0m\u001b[0;34m\u001b[0m\u001b[0;34m\u001b[0m\u001b[0m\n\u001b[0m\u001b[1;32m     12\u001b[0m \u001b[0mprint\u001b[0m\u001b[0;34m(\u001b[0m\u001b[0mdf_companies_employee\u001b[0m\u001b[0;34m.\u001b[0m\u001b[0miloc\u001b[0m\u001b[0;34m[\u001b[0m\u001b[0;34m:\u001b[0m\u001b[0;36m5\u001b[0m\u001b[0;34m,\u001b[0m\u001b[0;34m]\u001b[0m\u001b[0;34m)\u001b[0m\u001b[0;34m\u001b[0m\u001b[0;34m\u001b[0m\u001b[0m\n",
      "\u001b[0;31mNameError\u001b[0m: name 'xs' is not defined"
     ]
    }
   ],
   "source": [
    "# companies_employee\n",
    "df_companies_employee=pd.DataFrame()\n",
    "\n",
    "q=query(finance.STK_EMPLOYEE_INFO).filter(finance.STK_EMPLOYEE_INFO.code==stocks[0],finance.STK_EMPLOYEE_INFO.pub_date>='2020-05-30')\n",
    "companies_employee=finance.run_query(q)\n",
    "df_companies_employee=df_companies_employee.append(companies_employee)\n",
    "\n",
    "q=query(finance.STK_EMPLOYEE_INFO).filter(finance.STK_EMPLOYEE_INFO.code==stocks[1],finance.STK_EMPLOYEE_INFO.pub_date>='2020-05-30')\n",
    "companies_employee=finance.run_query(q)\n",
    "df_companies_employee=df_companies_employee.append(companies_employee)\n",
    "xs\n",
    "print(df_companies_employee.iloc[:5,])\n"
   ]
  },
  {
   "cell_type": "code",
   "execution_count": null,
   "metadata": {},
   "outputs": [],
   "source": [
    "# companies_info\n",
    "q=query(finance.STK_COMPANY_INFO).filter(finance.STK_COMPANY_INFO.code=='000001.XSHE').limit(10)\n",
    "companies_info=finance.run_query(q)\n",
    "companies_info['comments']"
   ]
  },
  {
   "cell_type": "code",
   "execution_count": null,
   "metadata": {},
   "outputs": [],
   "source": [
    "# companies_management_info\n",
    "q=query(finance.STK_MANAGEMENT_INFO).filter(finance.STK_MANAGEMENT_INFO.code=='000001.XSHE').order_by(finance.STK_MANAGEMENT_INFO.pub_date).limit(10)\n",
    "companies_management_info=finance.run_query(q)\n",
    "print(companies_management_info.iloc[:5,])"
   ]
  },
  {
   "cell_type": "code",
   "execution_count": null,
   "metadata": {},
   "outputs": [],
   "source": [
    "# companies_top10_shareholder\n",
    "q=query(finance.STK_SHAREHOLDER_TOP10).filter(finance.STK_SHAREHOLDER_TOP10.code=='600276.XSHG',finance.STK_SHAREHOLDER_TOP10.pub_date>'2015-01-01').limit(10)\n",
    "companies_top10_shareholder=finance.run_query(q)\n",
    "print(companies_top10_shareholder.iloc[:5,])"
   ]
  },
  {
   "cell_type": "code",
   "execution_count": null,
   "metadata": {},
   "outputs": [],
   "source": [
    "# companies_shareholders_share_change\n",
    "q=query(finance.STK_SHAREHOLDERS_SHARE_CHANGE).filter(finance.STK_SHAREHOLDERS_SHARE_CHANGE.code=='000002.XSHE',finance.STK_SHAREHOLDERS_SHARE_CHANGE.pub_date>'2015-01-01').limit(10)\n",
    "companies_shareholders_share_change=finance.run_query(q)\n",
    "print(companies_shareholders_share_change.iloc[:5,])"
   ]
  },
  {
   "cell_type": "code",
   "execution_count": null,
   "metadata": {},
   "outputs": [],
   "source": [
    "# companies_capital_change\n",
    "q=query(finance.STK_CAPITAL_CHANGE).filter(finance.STK_CAPITAL_CHANGE.code=='600276.XSHG',finance.STK_CAPITAL_CHANGE.pub_date>'2015-01-01').limit(10)\n",
    "companies_capital_change=finance.run_query(q)\n",
    "print(companies_capital_change.iloc[:5,])"
   ]
  },
  {
   "cell_type": "code",
   "execution_count": null,
   "metadata": {},
   "outputs": [],
   "source": [
    "# companies_income_statement\n",
    "q=query(finance.STK_INCOME_STATEMENT.company_name,\n",
    "        finance.STK_INCOME_STATEMENT.code,\n",
    "        finance.STK_INCOME_STATEMENT.pub_date,\n",
    "        finance.STK_INCOME_STATEMENT.start_date,\n",
    "        finance.STK_INCOME_STATEMENT.end_date,\n",
    "        finance.STK_INCOME_STATEMENT.total_operating_revenue,\n",
    "finance.STK_INCOME_STATEMENT.np_parent_company_owners).filter(finance.STK_INCOME_STATEMENT.code=='600519.XSHG',finance.STK_INCOME_STATEMENT.pub_date>='2015-01-01',finance.STK_INCOME_STATEMENT.report_type==0).limit(20)\n",
    "companies_income_statement=finance.run_query(q)\n",
    "print(companies_income_statement.iloc[:5,])"
   ]
  }
 ],
 "metadata": {
  "kernelspec": {
   "display_name": "Python 3",
   "language": "python",
   "name": "python3"
  },
  "language_info": {
   "codemirror_mode": {
    "name": "ipython",
    "version": 3
   },
   "file_extension": ".py",
   "mimetype": "text/x-python",
   "name": "python",
   "nbconvert_exporter": "python",
   "pygments_lexer": "ipython3",
   "version": "3.8.5"
  },
  "toc": {
   "base_numbering": 1,
   "nav_menu": {},
   "number_sections": true,
   "sideBar": true,
   "skip_h1_title": false,
   "title_cell": "Table of Contents",
   "title_sidebar": "Contents",
   "toc_cell": false,
   "toc_position": {
    "height": "calc(100% - 180px)",
    "left": "10px",
    "top": "150px",
    "width": "165px"
   },
   "toc_section_display": true,
   "toc_window_display": false
  },
  "varInspector": {
   "cols": {
    "lenName": 16,
    "lenType": 16,
    "lenVar": 40
   },
   "kernels_config": {
    "python": {
     "delete_cmd_postfix": "",
     "delete_cmd_prefix": "del ",
     "library": "var_list.py",
     "varRefreshCmd": "print(var_dic_list())"
    },
    "r": {
     "delete_cmd_postfix": ") ",
     "delete_cmd_prefix": "rm(",
     "library": "var_list.r",
     "varRefreshCmd": "cat(var_dic_list()) "
    }
   },
   "oldHeight": 119.844,
   "position": {
    "height": "141.844px",
    "left": "772px",
    "right": "20px",
    "top": "144px",
    "width": "350px"
   },
   "types_to_exclude": [
    "module",
    "function",
    "builtin_function_or_method",
    "instance",
    "_Feature"
   ],
   "varInspector_section_display": "block",
   "window_display": true
  }
 },
 "nbformat": 4,
 "nbformat_minor": 4
}
