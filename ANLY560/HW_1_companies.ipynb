{
 "cells": [
  {
   "cell_type": "code",
   "execution_count": 28,
   "metadata": {},
   "outputs": [],
   "source": [
    "from pandas import Series,DataFrame\n",
    "import pandas as pd\n",
    "from jqdatasdk import *\n",
    "from jqdatasdk import finance\n",
    "\n",
    "#chart part\n",
    "import chart_studio\n",
    "import chart_studio.plotly as py\n",
    "import pandas as pd\n",
    "import plotly.graph_objects as go #has more control, customizable\n",
    "import plotly.io as pio #produce an html file\n",
    "import plotly.express as px #fast, low effort"
   ]
  },
  {
   "cell_type": "code",
   "execution_count": 29,
   "metadata": {},
   "outputs": [],
   "source": [
    "auth('13618615127', 'JoinQuant220119')"
   ]
  },
  {
   "cell_type": "code",
   "execution_count": 30,
   "metadata": {},
   "outputs": [],
   "source": [
    "# List of real estate companies\n",
    "df_companies=pd.DataFrame()\n",
    "stocks = get_industry_stocks('K70')\n",
    "\n",
    "for index in range(len(stocks)):\n",
    "    stock_list=get_security_info(stocks[index])\n",
    "    df_companies=df_companies.append(pd.DataFrame({'code':[stock_list.name],\n",
    "      'display_name':[stock_list.display_name],\n",
    "      'start_date':[stock_list.start_date],\n",
    "      'end_date':[stock_list.end_date],\n",
    "      'type':[stock_list.type]}),ignore_index=True)\n",
    "\n",
    "df_companies.to_csv('Real_Estate_companies_list.csv')"
   ]
  },
  {
   "cell_type": "code",
   "execution_count": 31,
   "metadata": {},
   "outputs": [
    {
     "data": {
      "text/plain": [
       "'000002.XSHE'"
      ]
     },
     "execution_count": 31,
     "metadata": {},
     "output_type": "execute_result"
    }
   ],
   "source": [
    "df_companies[\"display_name\"][0]\n",
    "stocks[0]"
   ]
  },
  {
   "cell_type": "code",
   "execution_count": 32,
   "metadata": {},
   "outputs": [
    {
     "name": "stderr",
     "output_type": "stream",
     "text": [
      "/opt/anaconda3/lib/python3.8/site-packages/jqdatasdk/api.py:34: PanelObsoleteWarning: 当前环境 pandas 版本高于 0.25，get_price 与 get_fundamentals_continuously 接口的 panel 参数将固定为 False（0.25 及以上版本的 pandas 不再支持 panel，如使用该数据结构和相关函数请注意修改）\n",
      "  warnings.warn(PandasChecker.VERSION_NOTICE_MESSAGE, PanelObsoleteWarning)\n"
     ]
    }
   ],
   "source": [
    "# Get single stock market data\n",
    "df_stock_price=get_price('000002.XSHE', start_date='2022-01-01', end_date='2022-1-25', frequency='daily')\n",
    "\n",
    "df_stock_price.to_csv('df_stock_price.csv')"
   ]
  },
  {
   "cell_type": "code",
   "execution_count": 34,
   "metadata": {},
   "outputs": [
    {
     "name": "stdout",
     "output_type": "stream",
     "text": [
      "       id  company_id         code  name    end_date    pub_date  employee  \\\n",
      "0  450072   430000002  000002.XSHE   万科A  2020-06-30  2020-08-28    133455   \n",
      "1  520037   430000002  000002.XSHE   万科A  2020-12-31  2021-03-31    140565   \n",
      "0  520038   430000006  000006.XSHE  深振业A  2020-12-31  2021-03-31       397   \n",
      "\n",
      "  retirement graduate_rate college_rate middle_rate  \n",
      "0       None          None         None        None  \n",
      "1       None          None         None        None  \n",
      "0       None          None       81.864      2.5189  \n"
     ]
    }
   ],
   "source": [
    "# companies_employee\n",
    "df_companies_employee=pd.DataFrame()\n",
    "\n",
    "q=query(finance.STK_EMPLOYEE_INFO).filter(finance.STK_EMPLOYEE_INFO.code==stocks[0],finance.STK_EMPLOYEE_INFO.pub_date>='2020-05-30')\n",
    "companies_employee=finance.run_query(q)\n",
    "df_companies_employee=df_companies_employee.append(companies_employee)\n",
    "\n",
    "q=query(finance.STK_EMPLOYEE_INFO).filter(finance.STK_EMPLOYEE_INFO.code==stocks[1],finance.STK_EMPLOYEE_INFO.pub_date>='2020-05-30')\n",
    "companies_employee=finance.run_query(q)\n",
    "df_companies_employee=df_companies_employee.append(companies_employee)\n",
    "\n",
    "print(df_companies_employee.iloc[:5,])\n"
   ]
  },
  {
   "cell_type": "code",
   "execution_count": 35,
   "metadata": {},
   "outputs": [
    {
     "data": {
      "text/plain": [
       "0    深发展的核心竞争力更在于其基于市场需求基础上的雄厚的创新实力。迄今深发展已推出双周供、存抵贷...\n",
       "Name: comments, dtype: object"
      ]
     },
     "execution_count": 35,
     "metadata": {},
     "output_type": "execute_result"
    }
   ],
   "source": [
    "# companies_info\n",
    "q=query(finance.STK_COMPANY_INFO).filter(finance.STK_COMPANY_INFO.code=='000001.XSHE').limit(10)\n",
    "companies_info=finance.run_query(q)\n",
    "companies_info['comments']"
   ]
  },
  {
   "cell_type": "code",
   "execution_count": 36,
   "metadata": {},
   "outputs": [
    {
     "name": "stdout",
     "output_type": "stream",
     "text": [
      "       id  company_id company_name         code    pub_date  person_id  \\\n",
      "0  138262   430000001   平安银行股份有限公司  000001.XSHE  2014-10-10  201309346   \n",
      "1  138263   430000001   平安银行股份有限公司  000001.XSHE  2014-10-10  201309346   \n",
      "2  138264   430000001   平安银行股份有限公司  000001.XSHE  2014-10-10  201309346   \n",
      "3  138265   430000001   平安银行股份有限公司  000001.XSHE  2014-10-10  201313341   \n",
      "4  138266   430000001   平安银行股份有限公司  000001.XSHE  2014-10-10  201313342   \n",
      "\n",
      "      name  title_class_id title_class title  ... highest_degree_id  \\\n",
      "0      肖遂宁          314001       董事会成员    董事  ...          316004.0   \n",
      "1      肖遂宁          314003        高管成员    行长  ...          316004.0   \n",
      "2      肖遂宁          314001       董事会成员   董事长  ...          316004.0   \n",
      "3  罗伯特·巴内姆          314001       董事会成员  独立董事  ...          316002.0   \n",
      "4      孙昌基          314001       董事会成员  独立董事  ...               NaN   \n",
      "\n",
      "  highest_degree title_level_id title_level profession_certificate_id  \\\n",
      "0          大专及其他       317003.0          高级                      None   \n",
      "1          大专及其他       317003.0          高级                      None   \n",
      "2          大专及其他       317003.0          高级                      None   \n",
      "3          硕士研究生            NaN        None                      None   \n",
      "4           None       317003.0          高级                      None   \n",
      "\n",
      "  profession_certificate  nationality_id nationality  \\\n",
      "0                   None            None        None   \n",
      "1                   None            None        None   \n",
      "2                   None            None        None   \n",
      "3                   None            None        None   \n",
      "4                   None            None        None   \n",
      "\n",
      "   security_career_start_year  \\\n",
      "0                        None   \n",
      "1                        None   \n",
      "2                        None   \n",
      "3                        None   \n",
      "4                        None   \n",
      "\n",
      "                                              resume  \n",
      "0  肖遂宁先生：出生于1948年2月，高级经济师。曾任深圳发展银行总行行长、董事长，平安银行股份...  \n",
      "1  肖遂宁先生：出生于1948年2月，高级经济师。曾任深圳发展银行总行行长、董事长，平安银行股份...  \n",
      "2  肖遂宁先生：出生于1948年2月，高级经济师。曾任深圳发展银行总行行长、董事长，平安银行股份...  \n",
      "3  罗伯特巴内姆先生（RobertT.Barnum）自1997年至今在美国加州的PokerFla...  \n",
      "4  孙昌基，男，研究员级高级工程师。1942年8月20日出生于上海，1966年9月毕业于清华大学...  \n",
      "\n",
      "[5 rows x 26 columns]\n"
     ]
    }
   ],
   "source": [
    "# companies_management_info\n",
    "q=query(finance.STK_MANAGEMENT_INFO).filter(finance.STK_MANAGEMENT_INFO.code=='000001.XSHE').order_by(finance.STK_MANAGEMENT_INFO.pub_date).limit(10)\n",
    "companies_management_info=finance.run_query(q)\n",
    "print(companies_management_info.iloc[:5,])"
   ]
  },
  {
   "cell_type": "code",
   "execution_count": 37,
   "metadata": {},
   "outputs": [
    {
     "name": "stdout",
     "output_type": "stream",
     "text": [
      "       id  company_name  company_id         code    end_date    pub_date  \\\n",
      "0  753808  江苏恒瑞医药股份有限公司   420600276  600276.XSHG  2014-12-31  2015-03-31   \n",
      "1  753809  江苏恒瑞医药股份有限公司   420600276  600276.XSHG  2014-12-31  2015-03-31   \n",
      "2  753810  江苏恒瑞医药股份有限公司   420600276  600276.XSHG  2014-12-31  2015-03-31   \n",
      "3  753811  江苏恒瑞医药股份有限公司   420600276  600276.XSHG  2014-12-31  2015-03-31   \n",
      "4  753812  江苏恒瑞医药股份有限公司   420600276  600276.XSHG  2014-12-31  2015-03-31   \n",
      "\n",
      "   change_reason_id change_reason  shareholder_rank  \\\n",
      "0            306019          定期报告                 4   \n",
      "1            306019          定期报告                 9   \n",
      "2            306019          定期报告                10   \n",
      "3            306019          定期报告                 2   \n",
      "4            306019          定期报告                 3   \n",
      "\n",
      "                   shareholder_name  ... shareholder_id  shareholder_class_id  \\\n",
      "0                        中国医药工业有限公司  ...      100014895                307099   \n",
      "1              交通银行-博时新兴成长股票型证券投资基金  ...      120050009                307003   \n",
      "2  新华人寿保险股份有限公司-分红-团体分红-018L-FH001沪  ...      100000383                307014   \n",
      "3                        西藏达远投资有限公司  ...      100097529                307099   \n",
      "4                     连云港恒创医药科技有限公司  ...      100008678                307099   \n",
      "\n",
      "   shareholder_class share_number  share_ratio  sharesnature_id  sharesnature  \\\n",
      "0               其他机构   73000000.0         4.85           308007          流通A股   \n",
      "1             证券投资基金   10107880.0         0.67           308007          流通A股   \n",
      "2             保险投资组合    9820232.0         0.65           308007          流通A股   \n",
      "3               其他机构  240536692.0        15.99           308007          流通A股   \n",
      "4               其他机构  112278458.0         7.47           308007          流通A股   \n",
      "\n",
      "  share_pledge_freeze  share_pledge  share_freeze  \n",
      "0                 NaN           NaN          None  \n",
      "1                 NaN           NaN          None  \n",
      "2                 NaN           NaN          None  \n",
      "3                 NaN           NaN          None  \n",
      "4                 NaN           NaN          None  \n",
      "\n",
      "[5 rows x 21 columns]\n"
     ]
    }
   ],
   "source": [
    "# companies_top10_shareholder\n",
    "q=query(finance.STK_SHAREHOLDER_TOP10).filter(finance.STK_SHAREHOLDER_TOP10.code=='600276.XSHG',finance.STK_SHAREHOLDER_TOP10.pub_date>'2015-01-01').limit(10)\n",
    "companies_top10_shareholder=finance.run_query(q)\n",
    "print(companies_top10_shareholder.iloc[:5,])"
   ]
  },
  {
   "cell_type": "code",
   "execution_count": 38,
   "metadata": {},
   "outputs": [
    {
     "name": "stdout",
     "output_type": "stream",
     "text": [
      "      id  company_id company_name         code    pub_date    end_date  type  \\\n",
      "0   1362   430000002   万科企业股份有限公司  000002.XSHE  2015-10-22  2015-10-20     0   \n",
      "1  25094   430000002   万科企业股份有限公司  000002.XSHE  2015-01-24  2015-01-23     0   \n",
      "2  25138   430000002   万科企业股份有限公司  000002.XSHE  2015-01-28  2015-01-27     0   \n",
      "3  29854   430000002   万科企业股份有限公司  000002.XSHE  2015-07-11  2015-07-10     0   \n",
      "4  29883   430000002   万科企业股份有限公司  000002.XSHE  2015-07-11  2015-01-31     0   \n",
      "\n",
      "   shareholder_id            shareholder_name  change_number  change_ratio  \\\n",
      "0             NaN                深圳市矩盛华股份有限公司     37357310.0         0.338   \n",
      "1     100097568.0  国信证券-工商银行-国信金鹏分级1号集合资产管理计划    101187211.0         0.920   \n",
      "2     100097568.0  国信证券-工商银行-国信金鹏分级1号集合资产管理计划     34054269.0         0.310   \n",
      "3     100116740.0                前海人寿保险股份有限公司    552727926.0         5.000   \n",
      "4     100116740.0                前海人寿保险股份有限公司      1360161.0         0.012   \n",
      "\n",
      "  price_ceiling after_change_ratio  \n",
      "0          None               None  \n",
      "1         12.79               None  \n",
      "2         13.26               None  \n",
      "3   13.28-15.47               None  \n",
      "4   13.13-13.60               None  \n"
     ]
    }
   ],
   "source": [
    "# companies_shareholders_share_change\n",
    "q=query(finance.STK_SHAREHOLDERS_SHARE_CHANGE).filter(finance.STK_SHAREHOLDERS_SHARE_CHANGE.code=='000002.XSHE',finance.STK_SHAREHOLDERS_SHARE_CHANGE.pub_date>'2015-01-01').limit(10)\n",
    "companies_shareholders_share_change=finance.run_query(q)\n",
    "print(companies_shareholders_share_change.iloc[:5,])"
   ]
  },
  {
   "cell_type": "code",
   "execution_count": 39,
   "metadata": {},
   "outputs": [
    {
     "name": "stdout",
     "output_type": "stream",
     "text": [
      "     id  company_id  company_name         code change_date    pub_date  \\\n",
      "0   107   420600276  江苏恒瑞医药股份有限公司  600276.XSHG  2017-01-16  2017-01-10   \n",
      "1  3506   420600276  江苏恒瑞医药股份有限公司  600276.XSHG  2017-05-31  2017-05-22   \n",
      "2  4130   420600276  江苏恒瑞医药股份有限公司  600276.XSHG  2017-06-29  2017-06-29   \n",
      "3  4417   420600276  江苏恒瑞医药股份有限公司  600276.XSHG  2017-07-25  2017-07-20   \n",
      "4  7659   420600276  江苏恒瑞医药股份有限公司  600276.XSHG  2017-06-30  2017-08-30   \n",
      "\n",
      "   change_reason_id change_reason  share_total  share_non_trade  ...  share_h  \\\n",
      "0               NaN        激励股份解禁  234745.9674              0.0  ...      0.0   \n",
      "1          306010.0            送股  281695.1609              0.0  ...      0.0   \n",
      "2          306016.0          股份回购  281688.9833              0.0  ...      0.0   \n",
      "3               NaN        激励股份解禁  281688.9833              0.0  ...      0.0   \n",
      "4          306019.0          定期报告  281688.9833              0.0  ...      0.0   \n",
      "\n",
      "   share_h_limited  share_management share_management_limited  \\\n",
      "0             None               0.0                     None   \n",
      "1             None               0.0                     None   \n",
      "2             None               0.0                     None   \n",
      "3             None               0.0                     None   \n",
      "4             None               0.0                     None   \n",
      "\n",
      "   share_other_trade control_shareholder_limited core_employee_limited  \\\n",
      "0                0.0                        None                  None   \n",
      "1                0.0                        None                  None   \n",
      "2                0.0                        None                  None   \n",
      "3                0.0                        None                  None   \n",
      "4                0.0                        None                  None   \n",
      "\n",
      "   individual_fund_limited other_legal_limited other_limited  \n",
      "0                     None                None          None  \n",
      "1                     None                None          None  \n",
      "2                     None                None          None  \n",
      "3                     None                None          None  \n",
      "4                     None                None          None  \n",
      "\n",
      "[5 rows x 49 columns]\n"
     ]
    }
   ],
   "source": [
    "# companies_capital_change\n",
    "q=query(finance.STK_CAPITAL_CHANGE).filter(finance.STK_CAPITAL_CHANGE.code=='600276.XSHG',finance.STK_CAPITAL_CHANGE.pub_date>'2015-01-01').limit(10)\n",
    "companies_capital_change=finance.run_query(q)\n",
    "print(companies_capital_change.iloc[:5,])"
   ]
  },
  {
   "cell_type": "code",
   "execution_count": 40,
   "metadata": {},
   "outputs": [
    {
     "name": "stdout",
     "output_type": "stream",
     "text": [
      "  company_name         code    pub_date  start_date    end_date  \\\n",
      "0  贵州茅台酒股份有限公司  600519.XSHG  2015-04-21  2014-01-01  2014-12-31   \n",
      "1  贵州茅台酒股份有限公司  600519.XSHG  2015-04-21  2015-01-01  2015-03-31   \n",
      "2  贵州茅台酒股份有限公司  600519.XSHG  2015-08-28  2015-01-01  2015-06-30   \n",
      "3  贵州茅台酒股份有限公司  600519.XSHG  2015-10-23  2015-01-01  2015-09-30   \n",
      "4  贵州茅台酒股份有限公司  600519.XSHG  2016-03-24  2015-01-01  2015-12-31   \n",
      "\n",
      "   total_operating_revenue  np_parent_company_owners  \n",
      "0             3.221721e+10              1.534980e+10  \n",
      "1             8.760368e+09              4.364902e+09  \n",
      "2             1.618565e+10              7.888232e+09  \n",
      "3             2.373432e+10              1.142464e+10  \n",
      "4             3.344686e+10              1.550309e+10  \n"
     ]
    }
   ],
   "source": [
    "# companies_income_statement\n",
    "q=query(finance.STK_INCOME_STATEMENT.company_name,\n",
    "        finance.STK_INCOME_STATEMENT.code,\n",
    "        finance.STK_INCOME_STATEMENT.pub_date,\n",
    "        finance.STK_INCOME_STATEMENT.start_date,\n",
    "        finance.STK_INCOME_STATEMENT.end_date,\n",
    "        finance.STK_INCOME_STATEMENT.total_operating_revenue,\n",
    "finance.STK_INCOME_STATEMENT.np_parent_company_owners).filter(finance.STK_INCOME_STATEMENT.code=='600519.XSHG',finance.STK_INCOME_STATEMENT.pub_date>='2015-01-01',finance.STK_INCOME_STATEMENT.report_type==0).limit(20)\n",
    "companies_income_statement=finance.run_query(q)\n",
    "print(companies_income_statement.iloc[:5,])"
   ]
  },
  {
   "cell_type": "code",
   "execution_count": null,
   "metadata": {},
   "outputs": [],
   "source": []
  }
 ],
 "metadata": {
  "kernelspec": {
   "display_name": "Python 3",
   "language": "python",
   "name": "python3"
  },
  "language_info": {
   "codemirror_mode": {
    "name": "ipython",
    "version": 3
   },
   "file_extension": ".py",
   "mimetype": "text/x-python",
   "name": "python",
   "nbconvert_exporter": "python",
   "pygments_lexer": "ipython3",
   "version": "3.8.5"
  },
  "toc": {
   "base_numbering": 1,
   "nav_menu": {},
   "number_sections": true,
   "sideBar": true,
   "skip_h1_title": false,
   "title_cell": "Table of Contents",
   "title_sidebar": "Contents",
   "toc_cell": false,
   "toc_position": {
    "height": "calc(100% - 180px)",
    "left": "10px",
    "top": "150px",
    "width": "165px"
   },
   "toc_section_display": true,
   "toc_window_display": false
  },
  "varInspector": {
   "cols": {
    "lenName": 16,
    "lenType": 16,
    "lenVar": 40
   },
   "kernels_config": {
    "python": {
     "delete_cmd_postfix": "",
     "delete_cmd_prefix": "del ",
     "library": "var_list.py",
     "varRefreshCmd": "print(var_dic_list())"
    },
    "r": {
     "delete_cmd_postfix": ") ",
     "delete_cmd_prefix": "rm(",
     "library": "var_list.r",
     "varRefreshCmd": "cat(var_dic_list()) "
    }
   },
   "oldHeight": 119.844,
   "position": {
    "height": "141.844px",
    "left": "772px",
    "right": "20px",
    "top": "144px",
    "width": "350px"
   },
   "types_to_exclude": [
    "module",
    "function",
    "builtin_function_or_method",
    "instance",
    "_Feature"
   ],
   "varInspector_section_display": "block",
   "window_display": true
  }
 },
 "nbformat": 4,
 "nbformat_minor": 4
}
