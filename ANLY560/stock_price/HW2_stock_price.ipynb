{
 "cells": [
  {
   "cell_type": "code",
   "execution_count": 1,
   "metadata": {},
   "outputs": [],
   "source": [
    "from pandas import Series,DataFrame\n",
    "import pandas as pd\n",
    "from jqdatasdk import *\n",
    "from jqdatasdk import finance\n",
    "\n",
    "#chart part\n",
    "import chart_studio\n",
    "import chart_studio.plotly as py\n",
    "import pandas as pd\n",
    "import plotly.graph_objects as go #has more control, customizable\n",
    "import plotly.io as pio #produce an html file\n",
    "import plotly.express as px #fast, low effort"
   ]
  },
  {
   "cell_type": "code",
   "execution_count": 2,
   "metadata": {},
   "outputs": [
    {
     "name": "stdout",
     "output_type": "stream",
     "text": [
      "auth success \n"
     ]
    }
   ],
   "source": [
    "auth('13618615127', 'JoinQuant220119')"
   ]
  },
  {
   "cell_type": "code",
   "execution_count": 6,
   "metadata": {},
   "outputs": [],
   "source": [
    "# Get top 10 companies' stock price data\n",
    "# WKA\n",
    "df_sp_WKA=get_price('000002.XSHE', start_date='2010-01-01', end_date='2022-01-01', frequency='daily')\n",
    "df_sp_WKA.to_csv('df_sp_WKA.csv')\n",
    "\n",
    "# SZYA\n",
    "df_sp_SZYA=get_price('000006.XSHE', start_date='2010-01-01', end_date='2022-01-01', frequency='daily')\n",
    "df_sp_SZYA.to_csv('df_sp_SZYA.csv')\n",
    "\n",
    "# *STQX\n",
    "df_sp_STQX=get_price('000007.XSHE', start_date='2010-01-01', end_date='2022-01-01', frequency='daily')\n",
    "df_sp_STQX.to_csv('df_sp_*STQX.csv')\n",
    "\n",
    "# SWYA\n",
    "df_sp_SWYA=get_price('000011.XSHE', start_date='2010-01-01', end_date='2022-01-01', frequency='daily')\n",
    "df_sp_SWYA.to_csv('df_sp_SWYA.csv')\n",
    "\n",
    "# SHGF\n",
    "df_sp_SHGF=get_price('000014.XSHE', start_date='2010-01-01', end_date='2022-01-01', frequency='daily')\n",
    "df_sp_SHGF.to_csv('df_sp_SHGF.csv')\n",
    "\n",
    "# ZSDC\n",
    "df_sp_ZSDC=get_price('000024.XSHE', start_date='2010-01-01', end_date='2022-01-01', frequency='daily')\n",
    "df_sp_ZSDC.to_csv('df_sp_ZSDC.csv')\n",
    "\n",
    "# SSFA\n",
    "df_sp_SSFA=get_price('000029.XSHE', start_date='2010-01-01', end_date='2022-01-01', frequency='daily')\n",
    "df_sp_SSFA.to_csv('df_sp_SSFA.csv')\n",
    "\n",
    "# DYC\n",
    "df_sp_DYC=get_price('000031.XSHE', start_date='2010-01-01', end_date='2022-01-01', frequency='daily')\n",
    "df_sp_DYC.to_csv('df_sp_DYC.csv')\n",
    "\n",
    "# HLKG\n",
    "df_sp_HLKG=get_price('000036.XSHE', start_date='2010-01-01', end_date='2022-01-01', frequency='daily')\n",
    "df_sp_HLKG.to_csv('df_sp_HLKG.csv')\n",
    "\n",
    "# ZZKG\n",
    "df_sp_ZZKG=get_price('000042.XSHE', start_date='2010-01-01', end_date='2022-01-01', frequency='daily')\n",
    "df_sp_ZZKG.to_csv('df_sp_ZZKG.csv')\n",
    "\n",
    "\n"
   ]
  },
  {
   "cell_type": "code",
   "execution_count": null,
   "metadata": {},
   "outputs": [],
   "source": []
  }
 ],
 "metadata": {
  "kernelspec": {
   "display_name": "Python 3",
   "language": "python",
   "name": "python3"
  },
  "language_info": {
   "codemirror_mode": {
    "name": "ipython",
    "version": 3
   },
   "file_extension": ".py",
   "mimetype": "text/x-python",
   "name": "python",
   "nbconvert_exporter": "python",
   "pygments_lexer": "ipython3",
   "version": "3.8.5"
  }
 },
 "nbformat": 4,
 "nbformat_minor": 4
}
